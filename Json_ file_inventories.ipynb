{
 "cells": [
  {
   "cell_type": "code",
   "execution_count": 254,
   "metadata": {},
   "outputs": [],
   "source": [
    "import pandas as pd\n",
    "import numpy as np\n",
    "import tqdm"
   ]
  },
  {
   "cell_type": "code",
   "execution_count": 236,
   "metadata": {},
   "outputs": [],
   "source": [
    "inventories = pd.read_csv(\"Nuova cartella/inventories.csv\")\n",
    "inventory_parts = pd.read_csv(\"Nuova cartella/inventory_parts.csv\")\n",
    "colors = pd.read_csv(\"Nuova cartella/colors.csv\")\n",
    "parts = pd.read_csv(\"Nuova cartella/parts.csv\")\n",
    "part_categories = pd.read_csv(\"Nuova cartella/part_categories.csv\")"
   ]
  },
  {
   "cell_type": "code",
   "execution_count": 233,
   "metadata": {},
   "outputs": [],
   "source": [
    "inventories = inventories.replace({np.NaN:None})\n",
    "inventory_parts = inventory_parts.replace({np.NaN:None})\n",
    "colors = colors.replace({np.NaN:None})\n",
    "parts = parts.replace({np.NaN:None})\n",
    "part_categories = part_categories.replace({np.NaN:None})"
   ]
  },
  {
   "cell_type": "markdown",
   "metadata": {},
   "source": [
    "## We aggragate data in acording to JsonSchema build for the inventorie collection\n"
   ]
  },
  {
   "cell_type": "code",
   "execution_count": 345,
   "metadata": {
    "scrolled": true
   },
   "outputs": [
    {
     "data": {
      "application/vnd.jupyter.widget-view+json": {
       "model_id": "dd60f0235eea423c90b3a22f9fb76fda",
       "version_major": 2,
       "version_minor": 0
      },
      "text/plain": [
       "HBox(children=(IntProgress(value=0, max=1), HTML(value='')))"
      ]
     },
     "metadata": {},
     "output_type": "display_data"
    },
    {
     "name": "stdout",
     "output_type": "stream",
     "text": [
      "\n"
     ]
    }
   ],
   "source": [
    "list_inventories = []\n",
    "\n",
    "N = len(inventories)\n",
    "try:\n",
    "    for i in tqdm.tqdm_notebook(range(N)):\n",
    "        \n",
    "        dic_inventories = {} # The single document of inventories\n",
    "        \n",
    "        #we pull the document\n",
    "        inventory_id = inventories[\"id\"][i]\n",
    "        dic_inventories[\"inventory_id\"] = int(inventory_id)\n",
    "        dic_inventories[\"version\"] = int(inventories[\"version\"][i])\n",
    "\n",
    "        shallow = inventory_parts[inventory_parts[\"inventory_id\"] == inventory_id].copy(deep = True).reset_index(drop = True)\n",
    "\n",
    "        shallow = shallow.drop([\"inventory_id\"], axis = 1)\n",
    "        shallow.rename(columns = {\"color_id\": \"color\"}, inplace = True)\n",
    "\n",
    "        L = list(shallow[\"part_num\"])\n",
    "\n",
    "        part_cat = []\n",
    "        name = []\n",
    "        # whe build the array of documents (inventory_pars field)\n",
    "        for el in L:\n",
    "            if len(parts[parts[\"part_num\"] == el][\"part_cat_id\"]) == 0:\n",
    "                part_cat.append(None)\n",
    "            else:\n",
    "                part_cat.append(parts[parts[\"part_num\"] == el][\"part_cat_id\"].iloc[0])\n",
    "\n",
    "            if len(parts[parts[\"part_num\"] == el][\"name\"]) == 0:\n",
    "                name.append(None)\n",
    "            else:\n",
    "                name.append(parts[parts[\"part_num\"] == el][\"name\"].iloc[0])\n",
    "\n",
    "        df1 = pd.DataFrame(name, columns = [\"name\"]).replace({np.NaN:None})\n",
    "\n",
    "        df2 = pd.DataFrame(part_cat, columns = [\"part_cat\"]).replace({np.NaN:None})\n",
    "\n",
    "\n",
    "        dictionaries = pd.concat([shallow[\"part_num\"], df1, df2, shallow[[\"color\", \"quantity\", \"is_spare\"]]], axis=1).to_dict(orient = \"records\")\n",
    "\n",
    "        for i in range(len(dictionaries)):\n",
    "\n",
    "            val = dictionaries[i][\"part_cat\"]\n",
    "            if val == None:\n",
    "                dictionaries[i][\"part_cat\"] = {\"part-cat_id\": None, \"name\": None}\n",
    "            else:\n",
    "                dictionaries[i][\"part_cat\"] = part_categories[part_categories[\"id\"] == val ].to_dict(orient = \"records\")[0]\n",
    "\n",
    "            val = dictionaries[i][\"color\"] \n",
    "            if val == None:\n",
    "                dictionaries[i][\"color\"] = {\"color_id\": None, \"name\": None, \"rgb\": None, \"is_trans\": None}\n",
    "            else:\n",
    "                dictionaries[i][\"color\"] = colors[colors[\"id\"] == val ].to_dict(orient = \"records\")[0]\n",
    "\n",
    "        dic_inventories[\"inventory_parts\"] = dictionaries\n",
    "\n",
    "        list_inventories.append(dic_inventories) # we store all the silgle dictionaries (documents) in alist\n",
    "except:\n",
    "    print(i)"
   ]
  },
  {
   "cell_type": "code",
   "execution_count": null,
   "metadata": {},
   "outputs": [],
   "source": [
    "# saving a json file\n",
    "with open('inventories.json', 'w') as json_file:\n",
    "    json.dump(list_inventories, json_file)"
   ]
  },
  {
   "cell_type": "code",
   "execution_count": null,
   "metadata": {},
   "outputs": [],
   "source": []
  },
  {
   "cell_type": "code",
   "execution_count": null,
   "metadata": {},
   "outputs": [],
   "source": [
    "        "
   ]
  },
  {
   "cell_type": "code",
   "execution_count": null,
   "metadata": {},
   "outputs": [],
   "source": []
  },
  {
   "cell_type": "code",
   "execution_count": null,
   "metadata": {},
   "outputs": [],
   "source": []
  },
  {
   "cell_type": "code",
   "execution_count": null,
   "metadata": {},
   "outputs": [],
   "source": []
  },
  {
   "cell_type": "code",
   "execution_count": null,
   "metadata": {},
   "outputs": [],
   "source": []
  },
  {
   "cell_type": "code",
   "execution_count": 340,
   "metadata": {},
   "outputs": [],
   "source": []
  },
  {
   "cell_type": "code",
   "execution_count": 343,
   "metadata": {},
   "outputs": [],
   "source": []
  },
  {
   "cell_type": "code",
   "execution_count": null,
   "metadata": {},
   "outputs": [],
   "source": []
  },
  {
   "cell_type": "code",
   "execution_count": null,
   "metadata": {},
   "outputs": [],
   "source": []
  },
  {
   "cell_type": "code",
   "execution_count": null,
   "metadata": {},
   "outputs": [],
   "source": []
  }
 ],
 "metadata": {
  "kernelspec": {
   "display_name": "Python 3",
   "language": "python",
   "name": "python3"
  },
  "language_info": {
   "codemirror_mode": {
    "name": "ipython",
    "version": 3
   },
   "file_extension": ".py",
   "mimetype": "text/x-python",
   "name": "python",
   "nbconvert_exporter": "python",
   "pygments_lexer": "ipython3",
   "version": "3.7.4"
  }
 },
 "nbformat": 4,
 "nbformat_minor": 2
}
