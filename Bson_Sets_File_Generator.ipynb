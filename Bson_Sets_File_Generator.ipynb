{
 "cells": [
  {
   "cell_type": "code",
   "execution_count": 56,
   "metadata": {},
   "outputs": [],
   "source": [
    "import pandas as pd\n",
    "import numpy as np\n",
    "import pymongo\n",
    "import bson\n",
    "import tqdm\n",
    "import json"
   ]
  },
  {
   "cell_type": "code",
   "execution_count": 48,
   "metadata": {},
   "outputs": [],
   "source": [
    "# import file\n",
    "inventory_parts= pd.read_csv('./Lego_modify/inventory_parts.csv')\n",
    "inventories = pd.read_csv('./Lego_modify/inventories.csv')\n",
    "parts = pd.read_csv('./Lego_modify/parts.csv')\n",
    "colors= pd.read_csv('./Lego_modify/colors.csv')\n",
    "part_categories = pd.read_csv(\"./Lego_modify/part_categories.csv\")\n",
    "sets = pd.read_csv('./Lego_modify/sets.csv')\n",
    "themes = pd.read_csv('./Lego_modify/themes.csv')\n",
    "inventory_sets = pd.read_csv('./Lego_modify/themes.csv')\n"
   ]
  },
  {
   "cell_type": "code",
   "execution_count": 49,
   "metadata": {},
   "outputs": [],
   "source": [
    "#Replace NAN with None\n",
    "inventories = inventories.replace({np.NaN:None})\n",
    "inventory_parts = inventory_parts.replace({np.NaN:None})\n",
    "colors = colors.replace({np.NaN:None})\n",
    "parts = parts.replace({np.NaN:None})\n",
    "part_categories = part_categories.replace({np.NaN:None})\n",
    "sets = sets.replace({np.NaN:None})\n",
    "themes= themes.replace({np.NaN:None})\n",
    "inventory_sets= inventory_sets.replace({np.NaN:None})"
   ]
  },
  {
   "cell_type": "code",
   "execution_count": 68,
   "metadata": {},
   "outputs": [
    {
     "data": {
      "application/vnd.jupyter.widget-view+json": {
       "model_id": "014f1986761c4a3594748eb803d95f8f",
       "version_major": 2,
       "version_minor": 0
      },
      "text/plain": [
       "HBox(children=(IntProgress(value=0, max=11673), HTML(value='')))"
      ]
     },
     "metadata": {},
     "output_type": "display_data"
    },
    {
     "name": "stdout",
     "output_type": "stream",
     "text": [
      "\n"
     ]
    }
   ],
   "source": [
    "\n",
    "#Principal Code \n",
    "list_sets = []\n",
    "M = len(sets) \n",
    "themes.rename(columns = {\"id\": \"theme_id\"}, inplace = True)\n",
    "\n",
    "for i in tqdm.tqdm_notebook(range(M)):\n",
    "    dic_sets = {}\n",
    "    set_num = sets['set_num'][i]\n",
    "    dic_sets['set_num'] = set_num\n",
    "    dic_sets['name'] = sets[\"name\"][i] #### name \n",
    "    dic_sets['year'] = int(sets[\"year\"][i]) ##### year\n",
    "    dic_sets['num_parts'] = int(sets[\"num_parts\"][i]) ##### num parts\n",
    "    \n",
    "    theme = sets['theme_id'][i]\n",
    "    dic_sets['theme'] = themes[themes['theme_id']== theme].to_dict(orient = \"records\")[0]\n",
    "    #####theme_id \n",
    "    \n",
    "   \n",
    "    shallow =  inventories[inventories['set_num']== set_num].copy(deep = True).reset_index(drop = True)\n",
    "    if len(shallow) != 0:\n",
    "        shallow.rename(columns = {\"id\": \"inventory_id\"}, inplace = True)\n",
    "    \n",
    "        shallow = shallow.drop(['set_num'], axis = 1)\n",
    "    \n",
    "        dic_sets['inventories'] = shallow.to_dict(orient = 'records')[0]\n",
    "    else: \n",
    "        dic_sets['inventories'] = {'inventory_id': None, 'version' : None}\n",
    "    \n",
    "    \n",
    "    list_sets.append(dic_sets)\n",
    "    \n",
    "    "
   ]
  },
  {
   "cell_type": "code",
   "execution_count": 70,
   "metadata": {},
   "outputs": [
    {
     "data": {
      "text/plain": [
       "11673"
      ]
     },
     "execution_count": 70,
     "metadata": {},
     "output_type": "execute_result"
    }
   ],
   "source": [
    "#Lenght of original File \n",
    "len(list_sets)"
   ]
  },
  {
   "cell_type": "code",
   "execution_count": null,
   "metadata": {},
   "outputs": [],
   "source": [
    "#Save json file \n",
    "with open('sets.json', 'w') as json_file:\n",
    "    json.dump(list_sets, json_file)\n",
    "    json_file.close()"
   ]
  }
 ],
 "metadata": {
  "kernelspec": {
   "display_name": "Python 3",
   "language": "python",
   "name": "python3"
  },
  "language_info": {
   "codemirror_mode": {
    "name": "ipython",
    "version": 3
   },
   "file_extension": ".py",
   "mimetype": "text/x-python",
   "name": "python",
   "nbconvert_exporter": "python",
   "pygments_lexer": "ipython3",
   "version": "3.7.4"
  }
 },
 "nbformat": 4,
 "nbformat_minor": 4
}